{
 "cells": [
  {
   "cell_type": "code",
   "execution_count": 3,
   "metadata": {},
   "outputs": [
    {
     "name": "stdout",
     "output_type": "stream",
     "text": [
      "Jupyter is working!\n"
     ]
    }
   ],
   "source": [
    "import pandas as pd\n",
    "import numpy as np\n",
    "import os\n",
    "import pickle\n",
    "\n",
    "print(\"Jupyter is working!\")"
   ]
  },
  {
   "cell_type": "code",
   "execution_count": 4,
   "metadata": {},
   "outputs": [
    {
     "name": "stdout",
     "output_type": "stream",
     "text": [
      "Both datasets already exist locally. Skipping download.\n",
      "Train Dataset Info:\n",
      "<class 'pandas.core.frame.DataFrame'>\n",
      "RangeIndex: 58592 entries, 0 to 58591\n",
      "Data columns (total 44 columns):\n",
      " #   Column                            Non-Null Count  Dtype  \n",
      "---  ------                            --------------  -----  \n",
      " 0   policy_id                         58592 non-null  object \n",
      " 1   policy_tenure                     58592 non-null  float64\n",
      " 2   age_of_car                        58592 non-null  float64\n",
      " 3   age_of_policyholder               58592 non-null  float64\n",
      " 4   area_cluster                      58592 non-null  object \n",
      " 5   population_density                58592 non-null  int64  \n",
      " 6   make                              58592 non-null  int64  \n",
      " 7   segment                           58592 non-null  object \n",
      " 8   model                             58592 non-null  object \n",
      " 9   fuel_type                         58592 non-null  object \n",
      " 10  max_torque                        58592 non-null  object \n",
      " 11  max_power                         58592 non-null  object \n",
      " 12  engine_type                       58592 non-null  object \n",
      " 13  airbags                           58592 non-null  int64  \n",
      " 14  is_esc                            58592 non-null  object \n",
      " 15  is_adjustable_steering            58592 non-null  object \n",
      " 16  is_tpms                           58592 non-null  object \n",
      " 17  is_parking_sensors                58592 non-null  object \n",
      " 18  is_parking_camera                 58592 non-null  object \n",
      " 19  rear_brakes_type                  58592 non-null  object \n",
      " 20  displacement                      58592 non-null  int64  \n",
      " 21  cylinder                          58592 non-null  int64  \n",
      " 22  transmission_type                 58592 non-null  object \n",
      " 23  gear_box                          58592 non-null  int64  \n",
      " 24  steering_type                     58592 non-null  object \n",
      " 25  turning_radius                    58592 non-null  float64\n",
      " 26  length                            58592 non-null  int64  \n",
      " 27  width                             58592 non-null  int64  \n",
      " 28  height                            58592 non-null  int64  \n",
      " 29  gross_weight                      58592 non-null  int64  \n",
      " 30  is_front_fog_lights               58592 non-null  object \n",
      " 31  is_rear_window_wiper              58592 non-null  object \n",
      " 32  is_rear_window_washer             58592 non-null  object \n",
      " 33  is_rear_window_defogger           58592 non-null  object \n",
      " 34  is_brake_assist                   58592 non-null  object \n",
      " 35  is_power_door_locks               58592 non-null  object \n",
      " 36  is_central_locking                58592 non-null  object \n",
      " 37  is_power_steering                 58592 non-null  object \n",
      " 38  is_driver_seat_height_adjustable  58592 non-null  object \n",
      " 39  is_day_night_rear_view_mirror     58592 non-null  object \n",
      " 40  is_ecw                            58592 non-null  object \n",
      " 41  is_speed_alert                    58592 non-null  object \n",
      " 42  ncap_rating                       58592 non-null  int64  \n",
      " 43  is_claim                          58592 non-null  int64  \n",
      "dtypes: float64(4), int64(12), object(28)\n",
      "memory usage: 19.7+ MB\n",
      "None\n",
      "\n",
      "Test Dataset Info:\n",
      "<class 'pandas.core.frame.DataFrame'>\n",
      "RangeIndex: 39063 entries, 0 to 39062\n",
      "Data columns (total 43 columns):\n",
      " #   Column                            Non-Null Count  Dtype  \n",
      "---  ------                            --------------  -----  \n",
      " 0   policy_id                         39063 non-null  object \n",
      " 1   policy_tenure                     39063 non-null  float64\n",
      " 2   age_of_car                        39063 non-null  float64\n",
      " 3   age_of_policyholder               39063 non-null  float64\n",
      " 4   area_cluster                      39063 non-null  object \n",
      " 5   population_density                39063 non-null  int64  \n",
      " 6   make                              39063 non-null  int64  \n",
      " 7   segment                           39063 non-null  object \n",
      " 8   model                             39063 non-null  object \n",
      " 9   fuel_type                         39063 non-null  object \n",
      " 10  max_torque                        39063 non-null  object \n",
      " 11  max_power                         39063 non-null  object \n",
      " 12  engine_type                       39063 non-null  object \n",
      " 13  airbags                           39063 non-null  int64  \n",
      " 14  is_esc                            39063 non-null  object \n",
      " 15  is_adjustable_steering            39063 non-null  object \n",
      " 16  is_tpms                           39063 non-null  object \n",
      " 17  is_parking_sensors                39063 non-null  object \n",
      " 18  is_parking_camera                 39063 non-null  object \n",
      " 19  rear_brakes_type                  39063 non-null  object \n",
      " 20  displacement                      39063 non-null  int64  \n",
      " 21  cylinder                          39063 non-null  int64  \n",
      " 22  transmission_type                 39063 non-null  object \n",
      " 23  gear_box                          39063 non-null  int64  \n",
      " 24  steering_type                     39063 non-null  object \n",
      " 25  turning_radius                    39063 non-null  float64\n",
      " 26  length                            39063 non-null  int64  \n",
      " 27  width                             39063 non-null  int64  \n",
      " 28  height                            39063 non-null  int64  \n",
      " 29  gross_weight                      39063 non-null  int64  \n",
      " 30  is_front_fog_lights               39063 non-null  object \n",
      " 31  is_rear_window_wiper              39063 non-null  object \n",
      " 32  is_rear_window_washer             39063 non-null  object \n",
      " 33  is_rear_window_defogger           39063 non-null  object \n",
      " 34  is_brake_assist                   39063 non-null  object \n",
      " 35  is_power_door_locks               39063 non-null  object \n",
      " 36  is_central_locking                39063 non-null  object \n",
      " 37  is_power_steering                 39063 non-null  object \n",
      " 38  is_driver_seat_height_adjustable  39063 non-null  object \n",
      " 39  is_day_night_rear_view_mirror     39063 non-null  object \n",
      " 40  is_ecw                            39063 non-null  object \n",
      " 41  is_speed_alert                    39063 non-null  object \n",
      " 42  ncap_rating                       39063 non-null  int64  \n",
      "dtypes: float64(4), int64(11), object(28)\n",
      "memory usage: 12.8+ MB\n",
      "None\n"
     ]
    }
   ],
   "source": [
    "# Define the paths for the datasets\n",
    "train_path = \"train.csv\"\n",
    "test_path = \"test.csv\"\n",
    "\n",
    "# Check if both files exist locally\n",
    "if not os.path.exists(train_path) or not os.path.exists(test_path):\n",
    "    print(\"One or both datasets not found locally. Downloading...\")\n",
    "    !kaggle datasets download -d ifteshanajnin/carinsuranceclaimprediction-classification --unzip\n",
    "else:\n",
    "    print(\"Both datasets already exist locally. Skipping download.\")\n",
    "\n",
    "# Load the datasets\n",
    "dfTrain = pd.read_csv(train_path)\n",
    "dfTest = pd.read_csv(test_path)\n",
    "\n",
    "# Verify loading\n",
    "print(\"Train Dataset Info:\")\n",
    "print(dfTrain.info())\n",
    "print(\"\\nTest Dataset Info:\")\n",
    "print(dfTest.info())"
   ]
  },
  {
   "cell_type": "code",
   "execution_count": 2,
   "metadata": {},
   "outputs": [
    {
     "ename": "NameError",
     "evalue": "name 'dfValidate' is not defined",
     "output_type": "error",
     "traceback": [
      "\u001b[1;31m---------------------------------------------------------------------------\u001b[0m",
      "\u001b[1;31mNameError\u001b[0m                                 Traceback (most recent call last)",
      "Cell \u001b[1;32mIn[2], line 2\u001b[0m\n\u001b[0;32m      1\u001b[0m \u001b[38;5;66;03m# Overview of the dataset\u001b[39;00m\n\u001b[1;32m----> 2\u001b[0m \u001b[38;5;28mprint\u001b[39m(\u001b[38;5;124m\"\u001b[39m\u001b[38;5;124mDataset Shape:\u001b[39m\u001b[38;5;124m\"\u001b[39m, \u001b[43mdfValidate\u001b[49m\u001b[38;5;241m.\u001b[39mshape)\n\u001b[0;32m      3\u001b[0m \u001b[38;5;28mprint\u001b[39m(\u001b[38;5;124m\"\u001b[39m\u001b[38;5;124mData Types:\u001b[39m\u001b[38;5;130;01m\\n\u001b[39;00m\u001b[38;5;124m\"\u001b[39m, dfValidate\u001b[38;5;241m.\u001b[39mdtypes)\n\u001b[0;32m      4\u001b[0m \u001b[38;5;28mprint\u001b[39m(\u001b[38;5;124m\"\u001b[39m\u001b[38;5;124mFirst Few Rows:\u001b[39m\u001b[38;5;130;01m\\n\u001b[39;00m\u001b[38;5;124m\"\u001b[39m, dfValidate\u001b[38;5;241m.\u001b[39mhead())\n",
      "\u001b[1;31mNameError\u001b[0m: name 'dfValidate' is not defined"
     ]
    }
   ],
   "source": [
    "# Overview of the dataset\n",
    "print(\"Dataset Shape:\", dfValidate.shape)\n",
    "print(\"Data Types:\\n\", dfValidate.dtypes)\n",
    "print(\"First Few Rows:\\n\", dfValidate.head())"
   ]
  },
  {
   "cell_type": "code",
   "execution_count": null,
   "metadata": {},
   "outputs": [],
   "source": []
  }
 ],
 "metadata": {
  "kernelspec": {
   "display_name": "condaCode",
   "language": "python",
   "name": "python3"
  },
  "language_info": {
   "codemirror_mode": {
    "name": "ipython",
    "version": 3
   },
   "file_extension": ".py",
   "mimetype": "text/x-python",
   "name": "python",
   "nbconvert_exporter": "python",
   "pygments_lexer": "ipython3",
   "version": "3.13.1"
  }
 },
 "nbformat": 4,
 "nbformat_minor": 2
}
